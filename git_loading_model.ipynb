{
  "nbformat": 4,
  "nbformat_minor": 0,
  "metadata": {
    "colab": {
      "provenance": []
    },
    "kernelspec": {
      "name": "python3",
      "display_name": "Python 3"
    },
    "language_info": {
      "name": "python"
    }
  },
  "cells": [
    {
      "cell_type": "code",
      "execution_count": null,
      "metadata": {
        "id": "JGAFBPI9o93Q"
      },
      "outputs": [],
      "source": [
        "%pip install --upgrade --force-reinstall transformers==4.52.4"
      ]
    },
    {
      "cell_type": "code",
      "execution_count": null,
      "metadata": {
        "id": "5r5zRzG-A2dF"
      },
      "outputs": [],
      "source": [
        "%pip install -q transformers datasets scikit-learn pandas accelerate"
      ]
    },
    {
      "cell_type": "code",
      "execution_count": null,
      "metadata": {
        "id": "t8URV9rgCn8k"
      },
      "outputs": [],
      "source": [
        "from transformers import TrainingArguments"
      ]
    },
    {
      "cell_type": "code",
      "execution_count": null,
      "metadata": {
        "id": "xjnHFYmjA97-"
      },
      "outputs": [],
      "source": [
        "!pip install openpyxl"
      ]
    },
    {
      "cell_type": "code",
      "execution_count": null,
      "metadata": {
        "id": "30eIqqS7A54m"
      },
      "outputs": [],
      "source": [
        "import pandas as pd\n",
        "from sklearn.preprocessing import MultiLabelBinarizer\n",
        "from sklearn.model_selection import train_test_split\n",
        "from transformers import AutoTokenizer, BertForSequenceClassification, TrainingArguments, Trainer\n",
        "import torch\n",
        "import numpy as np\n",
        "from sklearn.metrics import classification_report"
      ]
    },
    {
      "cell_type": "code",
      "execution_count": null,
      "metadata": {
        "id": "gvyPj5xgodTR"
      },
      "outputs": [],
      "source": [
        "from google.colab import files\n",
        "uploaded = files.upload()  # select my_trained_model.zip from your local machine\n"
      ]
    },
    {
      "cell_type": "code",
      "execution_count": null,
      "metadata": {
        "id": "D4MVIw_kovc1"
      },
      "outputs": [],
      "source": [
        "import zipfile\n",
        "with zipfile.ZipFile(\"my_trained_model_finalni.zip\", \"r\") as z:\n",
        "    z.extractall(\"my_trained_model_finalni\")\n"
      ]
    },
    {
      "cell_type": "code",
      "execution_count": null,
      "metadata": {
        "id": "mpWczEJ_xl-T"
      },
      "outputs": [],
      "source": [
        "import os\n",
        "import json\n",
        "import ast\n",
        "import numpy as np\n",
        "import torch\n",
        "from transformers import AutoTokenizer, BertForSequenceClassification\n",
        "\n",
        "# ------------------------\n",
        "# Configuration\n",
        "# ------------------------\n",
        "model_dir = \"my_trained_model_finalni\"\n",
        "\n",
        "# ------------------------\n",
        "# Helpers\n",
        "# ------------------------\n",
        "def sigmoid(x):\n",
        "    return 1 / (1 + np.exp(-x))\n",
        "\n",
        "def decode_preds(pred_vector, label_names):\n",
        "    if label_names is None:\n",
        "        return None\n",
        "    return [label for label, p in zip(label_names, pred_vector) if p == 1]\n",
        "\n",
        "def load_model_and_assets(model_dir):\n",
        "    # Load tokenizer & model\n",
        "    tokenizer = AutoTokenizer.from_pretrained(model_dir)\n",
        "    model = BertForSequenceClassification.from_pretrained(\n",
        "        model_dir,\n",
        "        problem_type=\"multi_label_classification\"\n",
        "    )\n",
        "    model.eval()\n",
        "    device = torch.device(\"cuda\" if torch.cuda.is_available() else \"cpu\")\n",
        "    model.to(device)\n",
        "\n",
        "    # Load thresholds\n",
        "    try:\n",
        "        with open(os.path.join(model_dir, \"best_thresholds_last_epoch.json\")) as f:\n",
        "            thresholds = np.array(json.load(f))\n",
        "    except FileNotFoundError:\n",
        "        print(\"⚠️ best_thresholds.json not found. Using default 0.5.\")\n",
        "        thresholds = None\n",
        "\n",
        "    # Load label names\n",
        "    try:\n",
        "        with open(os.path.join(model_dir, \"label_names.json\"), encoding=\"utf-8\") as f:\n",
        "            label_names = json.load(f)\n",
        "    except FileNotFoundError:\n",
        "        print(\"⚠️ label_names.json not found.\")\n",
        "        label_names = None\n",
        "\n",
        "    return tokenizer, model, thresholds, label_names, device\n",
        "\n",
        "def predict(question, answer, tokenizer, model, device, threshold_array=None):\n",
        "    enc = tokenizer(\n",
        "        text=question,\n",
        "        text_pair=answer,\n",
        "        truncation=True,\n",
        "        padding=\"max_length\",\n",
        "        max_length=512,\n",
        "        return_tensors=\"pt\"\n",
        "    )\n",
        "    enc = {k: v.to(device) for k, v in enc.items()}\n",
        "\n",
        "    with torch.no_grad():\n",
        "        outputs = model(**enc)\n",
        "        logits = outputs.logits.squeeze(0).cpu().numpy()\n",
        "        probs = sigmoid(logits)\n",
        "\n",
        "        if threshold_array is None:\n",
        "            preds = (probs >= 0.5).astype(int)\n",
        "        else:\n",
        "            if len(threshold_array) != probs.shape[0]:\n",
        "                raise ValueError(f\"Threshold length {len(threshold_array)} != number of labels {probs.shape[0]}\")\n",
        "            preds = (probs >= threshold_array).astype(int)\n",
        "\n",
        "    return probs, preds\n"
      ]
    },
    {
      "cell_type": "code",
      "execution_count": null,
      "metadata": {
        "id": "ZGfPEKanxp8h"
      },
      "outputs": [],
      "source": [
        "# ------------------------\n",
        "# Example Usage\n",
        "# ------------------------\n",
        "tokenizer, model, best_thresholds, label_names, device = load_model_and_assets(model_dir)\n",
        "\n",
        "question = \"Warum würden Sie den ÖBB Kundenservice weiterempfehlen?\"\n",
        "answer = \"die preis ist immer gut\"\n",
        "\n",
        "probs, preds = predict(question, answer, tokenizer, model, device, threshold_array=best_thresholds)\n",
        "print(\"📦 Binary Prediction Vector:\\n\", preds)\n",
        "\n",
        "if label_names:\n",
        "    decoded = decode_preds(preds, label_names)\n",
        "    print(\"\\n🏷️ Decoded Labels:\")\n",
        "    for label in decoded:\n",
        "        print(\" -\", label)\n",
        "else:\n",
        "    print(\"⚠️ No label names available for decoding.\")\n"
      ]
    },
    {
      "cell_type": "code",
      "execution_count": null,
      "metadata": {
        "id": "5N2UQSn3djSE"
      },
      "outputs": [],
      "source": [
        "import json\n",
        "\n",
        "# Replace with the exact filename if needed\n",
        "filename = \"log_history.json\"\n",
        "\n",
        "# Load log\n",
        "with open(os.path.join(model_dir, filename), encoding=\"utf-8\") as f:\n",
        "    log_history = json.load(f)\n",
        "# Print evaluation metrics\n",
        "print(\"📊 Evaluation Metrics per Epoch:\\n\")\n",
        "for entry in log_history:\n",
        "    if \"eval_loss\" in entry:\n",
        "        print(f\"Epoch {entry.get('epoch', '?')} (Step {entry.get('step', '?')}):\")\n",
        "        print(f\"  - Eval Loss         : {entry.get('eval_loss'):.4f}\")\n",
        "        print(f\"  - F1 Micro          : {entry.get('eval_f1_micro'):.4f}\")\n",
        "        print(f\"  - F1 Macro          : {entry.get('eval_f1_macro'):.4f}\")\n",
        "        print(f\"  - Precision (Micro) : {entry.get('eval_precision_micro'):.4f}\")\n",
        "        print(f\"  - Recall (Micro)    : {entry.get('eval_recall_micro'):.4f}\")\n",
        "        print(f\"  - Thresholds (len)  : {len(entry.get('eval_best_thresholds', []))}\")\n",
        "        print(\"-\" * 50)\n"
      ]
    }
  ]
}